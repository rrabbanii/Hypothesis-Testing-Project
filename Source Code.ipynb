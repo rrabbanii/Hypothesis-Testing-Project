{
  "nbformat": 4,
  "nbformat_minor": 0,
  "metadata": {
    "colab": {
      "provenance": []
    },
    "kernelspec": {
      "name": "python3",
      "display_name": "Python 3"
    },
    "language_info": {
      "name": "python"
    }
  },
  "cells": [
    {
      "cell_type": "code",
      "execution_count": null,
      "metadata": {
        "id": "fXInnjh_OtP5",
        "colab": {
          "base_uri": "https://localhost:8080/",
          "height": 363
        },
        "outputId": "1abe75f1-4e85-4646-900f-4998379538ba"
      },
      "outputs": [
        {
          "output_type": "execute_result",
          "data": {
            "text/plain": [
              "   Pregnancies  Glucose  BloodPressure  SkinThickness  Insulin   BMI  \\\n",
              "0            6      148             72             35        0  33.6   \n",
              "1            1       85             66             29        0  26.6   \n",
              "2            8      183             64              0        0  23.3   \n",
              "3            1       89             66             23       94  28.1   \n",
              "4            0      137             40             35      168  43.1   \n",
              "5            5      116             74              0        0  25.6   \n",
              "6            3       78             50             32       88  31.0   \n",
              "7           10      115              0              0        0  35.3   \n",
              "8            2      197             70             45      543  30.5   \n",
              "9            8      125             96              0        0   0.0   \n",
              "\n",
              "   DiabetesPedigreeFunction  Age  Outcome  \n",
              "0                     0.627   50        1  \n",
              "1                     0.351   31        0  \n",
              "2                     0.672   32        1  \n",
              "3                     0.167   21        0  \n",
              "4                     2.288   33        1  \n",
              "5                     0.201   30        0  \n",
              "6                     0.248   26        1  \n",
              "7                     0.134   29        0  \n",
              "8                     0.158   53        1  \n",
              "9                     0.232   54        1  "
            ],
            "text/html": [
              "\n",
              "  <div id=\"df-43d8b809-c833-4724-b909-2ed1bc3c773a\">\n",
              "    <div class=\"colab-df-container\">\n",
              "      <div>\n",
              "<style scoped>\n",
              "    .dataframe tbody tr th:only-of-type {\n",
              "        vertical-align: middle;\n",
              "    }\n",
              "\n",
              "    .dataframe tbody tr th {\n",
              "        vertical-align: top;\n",
              "    }\n",
              "\n",
              "    .dataframe thead th {\n",
              "        text-align: right;\n",
              "    }\n",
              "</style>\n",
              "<table border=\"1\" class=\"dataframe\">\n",
              "  <thead>\n",
              "    <tr style=\"text-align: right;\">\n",
              "      <th></th>\n",
              "      <th>Pregnancies</th>\n",
              "      <th>Glucose</th>\n",
              "      <th>BloodPressure</th>\n",
              "      <th>SkinThickness</th>\n",
              "      <th>Insulin</th>\n",
              "      <th>BMI</th>\n",
              "      <th>DiabetesPedigreeFunction</th>\n",
              "      <th>Age</th>\n",
              "      <th>Outcome</th>\n",
              "    </tr>\n",
              "  </thead>\n",
              "  <tbody>\n",
              "    <tr>\n",
              "      <th>0</th>\n",
              "      <td>6</td>\n",
              "      <td>148</td>\n",
              "      <td>72</td>\n",
              "      <td>35</td>\n",
              "      <td>0</td>\n",
              "      <td>33.6</td>\n",
              "      <td>0.627</td>\n",
              "      <td>50</td>\n",
              "      <td>1</td>\n",
              "    </tr>\n",
              "    <tr>\n",
              "      <th>1</th>\n",
              "      <td>1</td>\n",
              "      <td>85</td>\n",
              "      <td>66</td>\n",
              "      <td>29</td>\n",
              "      <td>0</td>\n",
              "      <td>26.6</td>\n",
              "      <td>0.351</td>\n",
              "      <td>31</td>\n",
              "      <td>0</td>\n",
              "    </tr>\n",
              "    <tr>\n",
              "      <th>2</th>\n",
              "      <td>8</td>\n",
              "      <td>183</td>\n",
              "      <td>64</td>\n",
              "      <td>0</td>\n",
              "      <td>0</td>\n",
              "      <td>23.3</td>\n",
              "      <td>0.672</td>\n",
              "      <td>32</td>\n",
              "      <td>1</td>\n",
              "    </tr>\n",
              "    <tr>\n",
              "      <th>3</th>\n",
              "      <td>1</td>\n",
              "      <td>89</td>\n",
              "      <td>66</td>\n",
              "      <td>23</td>\n",
              "      <td>94</td>\n",
              "      <td>28.1</td>\n",
              "      <td>0.167</td>\n",
              "      <td>21</td>\n",
              "      <td>0</td>\n",
              "    </tr>\n",
              "    <tr>\n",
              "      <th>4</th>\n",
              "      <td>0</td>\n",
              "      <td>137</td>\n",
              "      <td>40</td>\n",
              "      <td>35</td>\n",
              "      <td>168</td>\n",
              "      <td>43.1</td>\n",
              "      <td>2.288</td>\n",
              "      <td>33</td>\n",
              "      <td>1</td>\n",
              "    </tr>\n",
              "    <tr>\n",
              "      <th>5</th>\n",
              "      <td>5</td>\n",
              "      <td>116</td>\n",
              "      <td>74</td>\n",
              "      <td>0</td>\n",
              "      <td>0</td>\n",
              "      <td>25.6</td>\n",
              "      <td>0.201</td>\n",
              "      <td>30</td>\n",
              "      <td>0</td>\n",
              "    </tr>\n",
              "    <tr>\n",
              "      <th>6</th>\n",
              "      <td>3</td>\n",
              "      <td>78</td>\n",
              "      <td>50</td>\n",
              "      <td>32</td>\n",
              "      <td>88</td>\n",
              "      <td>31.0</td>\n",
              "      <td>0.248</td>\n",
              "      <td>26</td>\n",
              "      <td>1</td>\n",
              "    </tr>\n",
              "    <tr>\n",
              "      <th>7</th>\n",
              "      <td>10</td>\n",
              "      <td>115</td>\n",
              "      <td>0</td>\n",
              "      <td>0</td>\n",
              "      <td>0</td>\n",
              "      <td>35.3</td>\n",
              "      <td>0.134</td>\n",
              "      <td>29</td>\n",
              "      <td>0</td>\n",
              "    </tr>\n",
              "    <tr>\n",
              "      <th>8</th>\n",
              "      <td>2</td>\n",
              "      <td>197</td>\n",
              "      <td>70</td>\n",
              "      <td>45</td>\n",
              "      <td>543</td>\n",
              "      <td>30.5</td>\n",
              "      <td>0.158</td>\n",
              "      <td>53</td>\n",
              "      <td>1</td>\n",
              "    </tr>\n",
              "    <tr>\n",
              "      <th>9</th>\n",
              "      <td>8</td>\n",
              "      <td>125</td>\n",
              "      <td>96</td>\n",
              "      <td>0</td>\n",
              "      <td>0</td>\n",
              "      <td>0.0</td>\n",
              "      <td>0.232</td>\n",
              "      <td>54</td>\n",
              "      <td>1</td>\n",
              "    </tr>\n",
              "  </tbody>\n",
              "</table>\n",
              "</div>\n",
              "      <button class=\"colab-df-convert\" onclick=\"convertToInteractive('df-43d8b809-c833-4724-b909-2ed1bc3c773a')\"\n",
              "              title=\"Convert this dataframe to an interactive table.\"\n",
              "              style=\"display:none;\">\n",
              "        \n",
              "  <svg xmlns=\"http://www.w3.org/2000/svg\" height=\"24px\"viewBox=\"0 0 24 24\"\n",
              "       width=\"24px\">\n",
              "    <path d=\"M0 0h24v24H0V0z\" fill=\"none\"/>\n",
              "    <path d=\"M18.56 5.44l.94 2.06.94-2.06 2.06-.94-2.06-.94-.94-2.06-.94 2.06-2.06.94zm-11 1L8.5 8.5l.94-2.06 2.06-.94-2.06-.94L8.5 2.5l-.94 2.06-2.06.94zm10 10l.94 2.06.94-2.06 2.06-.94-2.06-.94-.94-2.06-.94 2.06-2.06.94z\"/><path d=\"M17.41 7.96l-1.37-1.37c-.4-.4-.92-.59-1.43-.59-.52 0-1.04.2-1.43.59L10.3 9.45l-7.72 7.72c-.78.78-.78 2.05 0 2.83L4 21.41c.39.39.9.59 1.41.59.51 0 1.02-.2 1.41-.59l7.78-7.78 2.81-2.81c.8-.78.8-2.07 0-2.86zM5.41 20L4 18.59l7.72-7.72 1.47 1.35L5.41 20z\"/>\n",
              "  </svg>\n",
              "      </button>\n",
              "      \n",
              "  <style>\n",
              "    .colab-df-container {\n",
              "      display:flex;\n",
              "      flex-wrap:wrap;\n",
              "      gap: 12px;\n",
              "    }\n",
              "\n",
              "    .colab-df-convert {\n",
              "      background-color: #E8F0FE;\n",
              "      border: none;\n",
              "      border-radius: 50%;\n",
              "      cursor: pointer;\n",
              "      display: none;\n",
              "      fill: #1967D2;\n",
              "      height: 32px;\n",
              "      padding: 0 0 0 0;\n",
              "      width: 32px;\n",
              "    }\n",
              "\n",
              "    .colab-df-convert:hover {\n",
              "      background-color: #E2EBFA;\n",
              "      box-shadow: 0px 1px 2px rgba(60, 64, 67, 0.3), 0px 1px 3px 1px rgba(60, 64, 67, 0.15);\n",
              "      fill: #174EA6;\n",
              "    }\n",
              "\n",
              "    [theme=dark] .colab-df-convert {\n",
              "      background-color: #3B4455;\n",
              "      fill: #D2E3FC;\n",
              "    }\n",
              "\n",
              "    [theme=dark] .colab-df-convert:hover {\n",
              "      background-color: #434B5C;\n",
              "      box-shadow: 0px 1px 3px 1px rgba(0, 0, 0, 0.15);\n",
              "      filter: drop-shadow(0px 1px 2px rgba(0, 0, 0, 0.3));\n",
              "      fill: #FFFFFF;\n",
              "    }\n",
              "  </style>\n",
              "\n",
              "      <script>\n",
              "        const buttonEl =\n",
              "          document.querySelector('#df-43d8b809-c833-4724-b909-2ed1bc3c773a button.colab-df-convert');\n",
              "        buttonEl.style.display =\n",
              "          google.colab.kernel.accessAllowed ? 'block' : 'none';\n",
              "\n",
              "        async function convertToInteractive(key) {\n",
              "          const element = document.querySelector('#df-43d8b809-c833-4724-b909-2ed1bc3c773a');\n",
              "          const dataTable =\n",
              "            await google.colab.kernel.invokeFunction('convertToInteractive',\n",
              "                                                     [key], {});\n",
              "          if (!dataTable) return;\n",
              "\n",
              "          const docLinkHtml = 'Like what you see? Visit the ' +\n",
              "            '<a target=\"_blank\" href=https://colab.research.google.com/notebooks/data_table.ipynb>data table notebook</a>'\n",
              "            + ' to learn more about interactive tables.';\n",
              "          element.innerHTML = '';\n",
              "          dataTable['output_type'] = 'display_data';\n",
              "          await google.colab.output.renderOutput(dataTable, element);\n",
              "          const docLink = document.createElement('div');\n",
              "          docLink.innerHTML = docLinkHtml;\n",
              "          element.appendChild(docLink);\n",
              "        }\n",
              "      </script>\n",
              "    </div>\n",
              "  </div>\n",
              "  "
            ]
          },
          "metadata": {},
          "execution_count": 5
        }
      ],
      "source": [
        "import warnings\n",
        "warnings.filterwarnings('ignore')\n",
        "\n",
        "import pandas as pd\n",
        "import numpy as np\n",
        "import matplotlib.pyplot as plt\n",
        "import math\n",
        "from scipy import stats\n",
        "import scipy.stats as st\n",
        "from scipy.stats import norm\n",
        "import seaborn as sns\n",
        "sns.set_style('darkgrid')\n",
        "%matplotlib inline\n",
        "\n",
        "df = pd.read_csv('/content/diabetes.csv')\n",
        "df.head(10)"
      ]
    },
    {
      "cell_type": "code",
      "source": [
        "df.describe()"
      ],
      "metadata": {
        "colab": {
          "base_uri": "https://localhost:8080/",
          "height": 300
        },
        "id": "u0RFf-vDZlPv",
        "outputId": "4f918582-d6f6-4299-c8bc-28a2bc2d6c9c"
      },
      "execution_count": null,
      "outputs": [
        {
          "output_type": "execute_result",
          "data": {
            "text/plain": [
              "       Pregnancies     Glucose  BloodPressure  SkinThickness     Insulin  \\\n",
              "count   768.000000  768.000000     768.000000     768.000000  768.000000   \n",
              "mean      3.845052  120.894531      69.105469      20.536458   79.799479   \n",
              "std       3.369578   31.972618      19.355807      15.952218  115.244002   \n",
              "min       0.000000    0.000000       0.000000       0.000000    0.000000   \n",
              "25%       1.000000   99.000000      62.000000       0.000000    0.000000   \n",
              "50%       3.000000  117.000000      72.000000      23.000000   30.500000   \n",
              "75%       6.000000  140.250000      80.000000      32.000000  127.250000   \n",
              "max      17.000000  199.000000     122.000000      99.000000  846.000000   \n",
              "\n",
              "              BMI  DiabetesPedigreeFunction         Age     Outcome  \n",
              "count  768.000000                768.000000  768.000000  768.000000  \n",
              "mean    31.992578                  0.471876   33.240885    0.348958  \n",
              "std      7.884160                  0.331329   11.760232    0.476951  \n",
              "min      0.000000                  0.078000   21.000000    0.000000  \n",
              "25%     27.300000                  0.243750   24.000000    0.000000  \n",
              "50%     32.000000                  0.372500   29.000000    0.000000  \n",
              "75%     36.600000                  0.626250   41.000000    1.000000  \n",
              "max     67.100000                  2.420000   81.000000    1.000000  "
            ],
            "text/html": [
              "\n",
              "  <div id=\"df-dec3a4c9-352c-4637-bffd-2321baa8e6d8\">\n",
              "    <div class=\"colab-df-container\">\n",
              "      <div>\n",
              "<style scoped>\n",
              "    .dataframe tbody tr th:only-of-type {\n",
              "        vertical-align: middle;\n",
              "    }\n",
              "\n",
              "    .dataframe tbody tr th {\n",
              "        vertical-align: top;\n",
              "    }\n",
              "\n",
              "    .dataframe thead th {\n",
              "        text-align: right;\n",
              "    }\n",
              "</style>\n",
              "<table border=\"1\" class=\"dataframe\">\n",
              "  <thead>\n",
              "    <tr style=\"text-align: right;\">\n",
              "      <th></th>\n",
              "      <th>Pregnancies</th>\n",
              "      <th>Glucose</th>\n",
              "      <th>BloodPressure</th>\n",
              "      <th>SkinThickness</th>\n",
              "      <th>Insulin</th>\n",
              "      <th>BMI</th>\n",
              "      <th>DiabetesPedigreeFunction</th>\n",
              "      <th>Age</th>\n",
              "      <th>Outcome</th>\n",
              "    </tr>\n",
              "  </thead>\n",
              "  <tbody>\n",
              "    <tr>\n",
              "      <th>count</th>\n",
              "      <td>768.000000</td>\n",
              "      <td>768.000000</td>\n",
              "      <td>768.000000</td>\n",
              "      <td>768.000000</td>\n",
              "      <td>768.000000</td>\n",
              "      <td>768.000000</td>\n",
              "      <td>768.000000</td>\n",
              "      <td>768.000000</td>\n",
              "      <td>768.000000</td>\n",
              "    </tr>\n",
              "    <tr>\n",
              "      <th>mean</th>\n",
              "      <td>3.845052</td>\n",
              "      <td>120.894531</td>\n",
              "      <td>69.105469</td>\n",
              "      <td>20.536458</td>\n",
              "      <td>79.799479</td>\n",
              "      <td>31.992578</td>\n",
              "      <td>0.471876</td>\n",
              "      <td>33.240885</td>\n",
              "      <td>0.348958</td>\n",
              "    </tr>\n",
              "    <tr>\n",
              "      <th>std</th>\n",
              "      <td>3.369578</td>\n",
              "      <td>31.972618</td>\n",
              "      <td>19.355807</td>\n",
              "      <td>15.952218</td>\n",
              "      <td>115.244002</td>\n",
              "      <td>7.884160</td>\n",
              "      <td>0.331329</td>\n",
              "      <td>11.760232</td>\n",
              "      <td>0.476951</td>\n",
              "    </tr>\n",
              "    <tr>\n",
              "      <th>min</th>\n",
              "      <td>0.000000</td>\n",
              "      <td>0.000000</td>\n",
              "      <td>0.000000</td>\n",
              "      <td>0.000000</td>\n",
              "      <td>0.000000</td>\n",
              "      <td>0.000000</td>\n",
              "      <td>0.078000</td>\n",
              "      <td>21.000000</td>\n",
              "      <td>0.000000</td>\n",
              "    </tr>\n",
              "    <tr>\n",
              "      <th>25%</th>\n",
              "      <td>1.000000</td>\n",
              "      <td>99.000000</td>\n",
              "      <td>62.000000</td>\n",
              "      <td>0.000000</td>\n",
              "      <td>0.000000</td>\n",
              "      <td>27.300000</td>\n",
              "      <td>0.243750</td>\n",
              "      <td>24.000000</td>\n",
              "      <td>0.000000</td>\n",
              "    </tr>\n",
              "    <tr>\n",
              "      <th>50%</th>\n",
              "      <td>3.000000</td>\n",
              "      <td>117.000000</td>\n",
              "      <td>72.000000</td>\n",
              "      <td>23.000000</td>\n",
              "      <td>30.500000</td>\n",
              "      <td>32.000000</td>\n",
              "      <td>0.372500</td>\n",
              "      <td>29.000000</td>\n",
              "      <td>0.000000</td>\n",
              "    </tr>\n",
              "    <tr>\n",
              "      <th>75%</th>\n",
              "      <td>6.000000</td>\n",
              "      <td>140.250000</td>\n",
              "      <td>80.000000</td>\n",
              "      <td>32.000000</td>\n",
              "      <td>127.250000</td>\n",
              "      <td>36.600000</td>\n",
              "      <td>0.626250</td>\n",
              "      <td>41.000000</td>\n",
              "      <td>1.000000</td>\n",
              "    </tr>\n",
              "    <tr>\n",
              "      <th>max</th>\n",
              "      <td>17.000000</td>\n",
              "      <td>199.000000</td>\n",
              "      <td>122.000000</td>\n",
              "      <td>99.000000</td>\n",
              "      <td>846.000000</td>\n",
              "      <td>67.100000</td>\n",
              "      <td>2.420000</td>\n",
              "      <td>81.000000</td>\n",
              "      <td>1.000000</td>\n",
              "    </tr>\n",
              "  </tbody>\n",
              "</table>\n",
              "</div>\n",
              "      <button class=\"colab-df-convert\" onclick=\"convertToInteractive('df-dec3a4c9-352c-4637-bffd-2321baa8e6d8')\"\n",
              "              title=\"Convert this dataframe to an interactive table.\"\n",
              "              style=\"display:none;\">\n",
              "        \n",
              "  <svg xmlns=\"http://www.w3.org/2000/svg\" height=\"24px\"viewBox=\"0 0 24 24\"\n",
              "       width=\"24px\">\n",
              "    <path d=\"M0 0h24v24H0V0z\" fill=\"none\"/>\n",
              "    <path d=\"M18.56 5.44l.94 2.06.94-2.06 2.06-.94-2.06-.94-.94-2.06-.94 2.06-2.06.94zm-11 1L8.5 8.5l.94-2.06 2.06-.94-2.06-.94L8.5 2.5l-.94 2.06-2.06.94zm10 10l.94 2.06.94-2.06 2.06-.94-2.06-.94-.94-2.06-.94 2.06-2.06.94z\"/><path d=\"M17.41 7.96l-1.37-1.37c-.4-.4-.92-.59-1.43-.59-.52 0-1.04.2-1.43.59L10.3 9.45l-7.72 7.72c-.78.78-.78 2.05 0 2.83L4 21.41c.39.39.9.59 1.41.59.51 0 1.02-.2 1.41-.59l7.78-7.78 2.81-2.81c.8-.78.8-2.07 0-2.86zM5.41 20L4 18.59l7.72-7.72 1.47 1.35L5.41 20z\"/>\n",
              "  </svg>\n",
              "      </button>\n",
              "      \n",
              "  <style>\n",
              "    .colab-df-container {\n",
              "      display:flex;\n",
              "      flex-wrap:wrap;\n",
              "      gap: 12px;\n",
              "    }\n",
              "\n",
              "    .colab-df-convert {\n",
              "      background-color: #E8F0FE;\n",
              "      border: none;\n",
              "      border-radius: 50%;\n",
              "      cursor: pointer;\n",
              "      display: none;\n",
              "      fill: #1967D2;\n",
              "      height: 32px;\n",
              "      padding: 0 0 0 0;\n",
              "      width: 32px;\n",
              "    }\n",
              "\n",
              "    .colab-df-convert:hover {\n",
              "      background-color: #E2EBFA;\n",
              "      box-shadow: 0px 1px 2px rgba(60, 64, 67, 0.3), 0px 1px 3px 1px rgba(60, 64, 67, 0.15);\n",
              "      fill: #174EA6;\n",
              "    }\n",
              "\n",
              "    [theme=dark] .colab-df-convert {\n",
              "      background-color: #3B4455;\n",
              "      fill: #D2E3FC;\n",
              "    }\n",
              "\n",
              "    [theme=dark] .colab-df-convert:hover {\n",
              "      background-color: #434B5C;\n",
              "      box-shadow: 0px 1px 3px 1px rgba(0, 0, 0, 0.15);\n",
              "      filter: drop-shadow(0px 1px 2px rgba(0, 0, 0, 0.3));\n",
              "      fill: #FFFFFF;\n",
              "    }\n",
              "  </style>\n",
              "\n",
              "      <script>\n",
              "        const buttonEl =\n",
              "          document.querySelector('#df-dec3a4c9-352c-4637-bffd-2321baa8e6d8 button.colab-df-convert');\n",
              "        buttonEl.style.display =\n",
              "          google.colab.kernel.accessAllowed ? 'block' : 'none';\n",
              "\n",
              "        async function convertToInteractive(key) {\n",
              "          const element = document.querySelector('#df-dec3a4c9-352c-4637-bffd-2321baa8e6d8');\n",
              "          const dataTable =\n",
              "            await google.colab.kernel.invokeFunction('convertToInteractive',\n",
              "                                                     [key], {});\n",
              "          if (!dataTable) return;\n",
              "\n",
              "          const docLinkHtml = 'Like what you see? Visit the ' +\n",
              "            '<a target=\"_blank\" href=https://colab.research.google.com/notebooks/data_table.ipynb>data table notebook</a>'\n",
              "            + ' to learn more about interactive tables.';\n",
              "          element.innerHTML = '';\n",
              "          dataTable['output_type'] = 'display_data';\n",
              "          await google.colab.output.renderOutput(dataTable, element);\n",
              "          const docLink = document.createElement('div');\n",
              "          docLink.innerHTML = docLinkHtml;\n",
              "          element.appendChild(docLink);\n",
              "        }\n",
              "      </script>\n",
              "    </div>\n",
              "  </div>\n",
              "  "
            ]
          },
          "metadata": {},
          "execution_count": 6
        }
      ]
    },
    {
      "cell_type": "code",
      "source": [
        "df = pd.read_csv('diabetes.csv')\n",
        "Diabetes = df[\"Pregnancies\"][df[\"Outcome\"]==1]\n",
        "Diabetes = Diabetes.rename('Diabetes')\n",
        "Diabetes = Diabetes.reset_index()\n",
        "print(Diabetes)\n",
        "\n",
        "nonDiabetes = df[\"Pregnancies\"][df[\"Outcome\"]==0]\n",
        "nonDiabetes = nonDiabetes.rename('Non Diabetes')\n",
        "nonDiabetes = nonDiabetes.reset_index()\n",
        "non_diabetes = nonDiabetes[['Non Diabetes']]\n",
        "diabetes = Diabetes[['Diabetes']]\n",
        "print(non_diabetes)\n",
        "print(diabetes)"
      ],
      "metadata": {
        "colab": {
          "base_uri": "https://localhost:8080/"
        },
        "id": "cn8OEIGafqET",
        "outputId": "049587f2-ce6a-4f71-c007-a62a7dfbc655"
      },
      "execution_count": null,
      "outputs": [
        {
          "output_type": "stream",
          "name": "stdout",
          "text": [
            "     index  Diabetes\n",
            "0        0         6\n",
            "1        2         8\n",
            "2        4         0\n",
            "3        6         3\n",
            "4        8         2\n",
            "..     ...       ...\n",
            "263    755         1\n",
            "264    757         0\n",
            "265    759         6\n",
            "266    761         9\n",
            "267    766         1\n",
            "\n",
            "[268 rows x 2 columns]\n",
            "     Non Diabetes\n",
            "0               1\n",
            "1               1\n",
            "2               5\n",
            "3              10\n",
            "4               4\n",
            "..            ...\n",
            "495             9\n",
            "496            10\n",
            "497             2\n",
            "498             5\n",
            "499             1\n",
            "\n",
            "[500 rows x 1 columns]\n",
            "     Diabetes\n",
            "0           6\n",
            "1           8\n",
            "2           0\n",
            "3           3\n",
            "4           2\n",
            "..        ...\n",
            "263         1\n",
            "264         0\n",
            "265         6\n",
            "266         9\n",
            "267         1\n",
            "\n",
            "[268 rows x 1 columns]\n"
          ]
        }
      ]
    },
    {
      "cell_type": "code",
      "source": [
        "merge = pd.concat([diabetes,non_diabetes],axis=1,join='inner')\n",
        "merge.dtypes\n",
        "print(merge)"
      ],
      "metadata": {
        "colab": {
          "base_uri": "https://localhost:8080/"
        },
        "id": "GEpUJp1Wggd-",
        "outputId": "c863983d-bddc-4de4-ea4f-271c7138f6cc"
      },
      "execution_count": null,
      "outputs": [
        {
          "output_type": "stream",
          "name": "stdout",
          "text": [
            "     Diabetes  Non Diabetes\n",
            "0           6             1\n",
            "1           8             1\n",
            "2           0             5\n",
            "3           3            10\n",
            "4           2             4\n",
            "..        ...           ...\n",
            "263         1             0\n",
            "264         0             2\n",
            "265         6             3\n",
            "266         9             1\n",
            "267         1             2\n",
            "\n",
            "[268 rows x 2 columns]\n"
          ]
        }
      ]
    },
    {
      "cell_type": "code",
      "source": [
        "# Distribution for Non Diabetes:\n",
        "first_fares = df[\"Pregnancies\"][df[\"Outcome\"]==0]\n",
        "first_mean = round(np.mean(first_fares), 2)\n",
        "first_median = round(np.median(first_fares), 2)\n",
        "first_conf = np.round(np.percentile(first_fares, [2.5, 97.5]), 2)\n",
        "fig, ax = plt.subplots(figsize = (10, 7))\n",
        "ax.hist(first_fares)\n",
        "props = dict(boxstyle='round', facecolor='wheat', alpha=0.5)\n",
        "ax.text(0.76, 0.95, f\"Mean: {first_mean} \\nMedian: {first_median} \\nCI: {first_conf}\", transform=ax.transAxes, fontsize=14,\n",
        "        verticalalignment='top', bbox=props)\n",
        "plt.xlabel(\"Pregnancy Month\")\n",
        "plt.ylabel(\"Frequency\")\n",
        "plt.title(\"Distribution of pregnancy month of the non-diabetic patients\")\n",
        "plt.show()"
      ],
      "metadata": {
        "colab": {
          "base_uri": "https://localhost:8080/",
          "height": 458
        },
        "id": "jlHE25-rhsdp",
        "outputId": "d99d827a-c0b1-4d75-e438-88692ff424ea"
      },
      "execution_count": null,
      "outputs": [
        {
          "output_type": "display_data",
          "data": {
            "text/plain": [
              "<Figure size 720x504 with 1 Axes>"
            ],
            "image/png": "[encoded data removed]"
          },
          "metadata": {
            "needs_background": "light"
          }
        }
      ]
    },
    {
      "cell_type": "code",
      "source": [
        "# Distribution for Diabetes:\n",
        "first_fares = df[\"Pregnancies\"][df[\"Outcome\"]==1]\n",
        "first_mean = round(np.mean(first_fares), 2)\n",
        "first_median = round(np.median(first_fares), 2)\n",
        "first_conf = np.round(np.percentile(first_fares, [2.5, 97.5]), 2)\n",
        "fig, ax = plt.subplots(figsize = (10, 7))\n",
        "ax.hist(first_fares)\n",
        "props = dict(boxstyle='round', facecolor='wheat', alpha=0.5)\n",
        "ax.text(0.76, 0.95, f\"Mean: {first_mean} \\nMedian: {first_median} \\nCI: {first_conf}\", transform=ax.transAxes, fontsize=14,\n",
        "        verticalalignment='top', bbox=props)\n",
        "plt.xlabel(\"Pregnancies Month\")\n",
        "plt.ylabel(\"Frequency\")\n",
        "plt.title(\"Distribution of pregnancies month of the diabetic patient\")\n",
        "plt.show()"
      ],
      "metadata": {
        "colab": {
          "base_uri": "https://localhost:8080/",
          "height": 458
        },
        "id": "UzT6Wn1Eip8y",
        "outputId": "5c00b34e-5517-48e2-af32-9a60fa2ec449"
      },
      "execution_count": null,
      "outputs": [
        {
          "output_type": "display_data",
          "data": {
            "text/plain": [
              "<Figure size 720x504 with 1 Axes>"
            ],
            "image/png": "[encoded data removed]"
          },
          "metadata": {
            "needs_background": "light"
          }
        }
      ]
    },
    {
      "cell_type": "code",
      "source": [
        "#Presenting Average pregnancy months for Diabetic and Non Diabetic Patients\n",
        "x = [\"diabetes\" , \"non_diabetes\"]\n",
        "y = [np.mean(df[\"Pregnancies\"][df[\"Outcome\"]==1]), np.mean(df[\"Pregnancies\"][df[\"Outcome\"]==0])]\n",
        "plt.bar(x, y)\n",
        "plt.ylabel(\"Frequency\")\n",
        "plt.title(\"Average Pregnancy Month distribution for Diabetic and Non-Diabetic Patients\")\n",
        "plt.show()"
      ],
      "metadata": {
        "colab": {
          "base_uri": "https://localhost:8080/",
          "height": 282
        },
        "id": "p1ycv1sUkBW5",
        "outputId": "8f7bdb6b-cb8b-43d1-f73d-a202e737c5fb"
      },
      "execution_count": null,
      "outputs": [
        {
          "output_type": "display_data",
          "data": {
            "text/plain": [
              "<Figure size 432x288 with 1 Axes>"
            ],
            "image/png": "[encoded data removed]"
          },
          "metadata": {
            "needs_background": "light"
          }
        }
      ]
    },
    {
      "cell_type": "code",
      "source": [
        "df.boxplot(column='Pregnancies', by='Outcome', figsize=(10,6))\n"
      ],
      "metadata": {
        "colab": {
          "base_uri": "https://localhost:8080/",
          "height": 438
        },
        "id": "PFYwnjv7ljWV",
        "outputId": "d0673a4d-abde-479d-e83d-335b4ec17516"
      },
      "execution_count": null,
      "outputs": [
        {
          "output_type": "execute_result",
          "data": {
            "text/plain": [
              "<matplotlib.axes._subplots.AxesSubplot at 0x7f6e88c2d150>"
            ]
          },
          "metadata": {},
          "execution_count": 27
        },
        {
          "output_type": "display_data",
          "data": {
            "text/plain": [
              "<Figure size 720x432 with 1 Axes>"
            ],
            "image/png": "[encoded data removed]"
          },
          "metadata": {
            "needs_background": "light"
          }
        }
      ]
    },
    {
      "cell_type": "markdown",
      "source": [
        "95% Confidence Interval"
      ],
      "metadata": {
        "id": "lc0DO1_ZwmMJ"
      }
    },
    {
      "cell_type": "code",
      "source": [
        "#to calculate proportion\n",
        "class Proportion:\n",
        "    def __init__(self,n_yes,n,z):\n",
        "        \"\"\"Z multiplier from appropriate distribution based on desired confidence level and sample design\"\"\"\n",
        "        self.n_yes = n_yes\n",
        "        self.n=n\n",
        "        self.z=z\n",
        "        self.best_estimate = round(n_yes/n,2)\n",
        "\n",
        "    def estimated_standard_error(self):\n",
        "        import numpy as np\n",
        "        return np.sqrt((self.best_estimate*(1-self.best_estimate))/self.n)\n",
        "\n",
        "    def margin_of_error(self):\n",
        "        return self.z*self.estimated_standard_error()\n",
        "\n",
        "    def proportion(self):\n",
        "        lcb = self.best_estimate - (self.z*self.estimated_standard_error())\n",
        "        ucb = self.best_estimate + (self.z*self.estimated_standard_error())\n",
        "        return (lcb,ucb)\n",
        "\n",
        "#to calculate mean\n",
        "class Mean:\n",
        "    import numpy as np\n",
        "    def __init__(self,mean,std,n,t):\n",
        "        '''t multiplier comes from t distribution with n-1 degree of freedom'''\n",
        "        self.best_estimate = mean\n",
        "        self.std = std\n",
        "        self.n = n\n",
        "        self.t = t\n",
        "        self.estimated_se = self.std / np.sqrt(self.n)\n",
        "\n",
        "    def moe(self):\n",
        "        return self.t * self.estimated_se\n",
        "\n",
        "    def mean(self):\n",
        "        lcb = self.best_estimate - self.moe()\n",
        "        ucb = self.best_estimate + self.moe()\n",
        "        return (lcb,ucb)\n",
        "\n",
        "#to calculate difference in mean\n",
        "class diffMean:\n",
        "    import numpy as np\n",
        "    def __init__(self,x1,x2,std1,std2,n1,n2,t):\n",
        "        '''t multiplier comes from t distribution with appropriate degree of freedom'''\n",
        "        self.best_estimate1 = x1\n",
        "        self.best_estimate2 = x2\n",
        "        self.std1 = std1\n",
        "        self.std2 = std2\n",
        "        self.n1 = n1\n",
        "        self.n2 = n2\n",
        "        self.t = t\n",
        "        self.pooled_estimated_se = np.sqrt((np.sqrt(((self.n1-1)*(self.std1**2) + (self.n2-1)*(self.std2**2)) / ((self.n1+self.n2)-2))) * (np.sqrt((1/self.n1)+(1/self.n2))))\n",
        "        self.unpooled_estimated_se = np.sqrt(((self.std1**2)/self.n1) + ((self.std2**2)/self.n2))\n",
        "\n",
        "    def pooledMoe(self):\n",
        "        return (self.t)*(self.pooled_estimated_se)\n",
        "\n",
        "    def pooledMean(self):\n",
        "        lcb = (self.best_estimate1 - self.best_estimate2) - self.pooledMoe()\n",
        "        ucb = (self.best_estimate1 - self.best_estimate2) + self.pooledMoe()\n",
        "        return (lcb,ucb)\n",
        "\n",
        "    def unpooledMoe(self):\n",
        "        return self.t * self.unpooled_estimated_se\n",
        "\n",
        "    def unpooledMean(self):\n",
        "        lcb = (self.best_estimate1 - self.best_estimate2) - self.unpooledMoe()\n",
        "        ucb = (self.best_estimate1 - self.best_estimate2) + self.unpooledMoe()\n",
        "        return (lcb,ucb)"
      ],
      "metadata": {
        "id": "Nx2tNlTmwk4l"
      },
      "execution_count": null,
      "outputs": []
    },
    {
      "cell_type": "code",
      "source": [
        "df.Outcome.replace({0:'Non-Diab',1:'Diab'},inplace=True)\n",
        "print(df.Outcome.value_counts())"
      ],
      "metadata": {
        "colab": {
          "base_uri": "https://localhost:8080/"
        },
        "id": "gdE7JOHvrRd4",
        "outputId": "c04215be-a4ca-4f6c-ec4e-d622ef4c2467"
      },
      "execution_count": null,
      "outputs": [
        {
          "output_type": "stream",
          "name": "stdout",
          "text": [
            "Non-Diab    500\n",
            "Diab        268\n",
            "Name: Outcome, dtype: int64\n"
          ]
        }
      ]
    },
    {
      "cell_type": "code",
      "source": [
        "n = df.shape[0]\n",
        "diabetic = df.Outcome.value_counts().loc['Diab']\n",
        "\n",
        "print(\"Number of total observation are:\",n)\n",
        "print(\"Number of Diabetic Patient are:\",diabetic)\n",
        "\n",
        "#Let us construct a 95% CI using our written code\n",
        "#I am using z=1.96 for 95% C.I.\n",
        "diab_pro = Proportion(diabetic, n ,1.96)\n",
        "\n",
        "print(\"\\nPrinting Calculations...\")\n",
        "print(\"Best Point Estimate for Proportion of People with Diabetes is:\", diab_pro.best_estimate*100)\n",
        "print(\"Estimated Standard Error for Proportion of People with Diabetes is:\",diab_pro.estimated_standard_error())\n",
        "print(\"Margin of Error is for Proportion of People with Diabetes is:\",diab_pro.margin_of_error())\n",
        "print(\"95% Confidence Interval for Proportion of People with Diabetes is:\",diab_pro.proportion())"
      ],
      "metadata": {
        "colab": {
          "base_uri": "https://localhost:8080/"
        },
        "id": "WDHTA-gAwbOJ",
        "outputId": "68088763-4e98-412f-a6ce-27acea318cd2"
      },
      "execution_count": null,
      "outputs": [
        {
          "output_type": "stream",
          "name": "stdout",
          "text": [
            "Number of total observation are: 768\n",
            "Number of Diabetic Patient are: 268\n",
            "\n",
            "Printing Calculations...\n",
            "Best Point Estimate for Proportion of People with Diabetes is: 35.0\n",
            "Estimated Standard Error for Proportion of People with Diabetes is: 0.017211157960269067\n",
            "Margin of Error is for Proportion of People with Diabetes is: 0.03373386960212737\n",
            "95% Confidence Interval for Proportion of People with Diabetes is: (0.3162661303978726, 0.38373386960212735)\n"
          ]
        }
      ]
    },
    {
      "cell_type": "code",
      "source": [
        "#Let us now calculate same thing using statsmodel\n",
        "import statsmodels.api as sm\n",
        "print(\"\\n95% Confidence Interval for Proportion of People with Diabetes is:\",sm.stats.proportion_confint(diabetic, n))"
      ],
      "metadata": {
        "colab": {
          "base_uri": "https://localhost:8080/"
        },
        "id": "2vno6ehjwven",
        "outputId": "cdbde627-2116-4526-8a70-6cef61d51173"
      },
      "execution_count": null,
      "outputs": [
        {
          "output_type": "stream",
          "name": "stdout",
          "text": [
            "\n",
            "95% Confidence Interval for Proportion of People with Diabetes is: (0.3152483405027714, 0.38266832616389523)\n"
          ]
        }
      ]
    },
    {
      "cell_type": "markdown",
      "source": [
        "**Problem Statement #1**\n",
        "\n",
        "What is average month of Pregnancy for Patients with diabetes?"
      ],
      "metadata": {
        "id": "bWxgspgBvzrw"
      }
    },
    {
      "cell_type": "code",
      "source": [
        "df_diabetic = df[df.Outcome=='Diab']\n",
        "df_diabetic.head()"
      ],
      "metadata": {
        "colab": {
          "base_uri": "https://localhost:8080/",
          "height": 206
        },
        "id": "oi4PT-hXw80D",
        "outputId": "b148a915-3890-4f7d-c8ec-466a838822c8"
      },
      "execution_count": null,
      "outputs": [
        {
          "output_type": "execute_result",
          "data": {
            "text/plain": [
              "   Pregnancies  Glucose  BloodPressure  SkinThickness  Insulin   BMI  \\\n",
              "0            6      148             72             35        0  33.6   \n",
              "2            8      183             64              0        0  23.3   \n",
              "4            0      137             40             35      168  43.1   \n",
              "6            3       78             50             32       88  31.0   \n",
              "8            2      197             70             45      543  30.5   \n",
              "\n",
              "   DiabetesPedigreeFunction  Age Outcome  \n",
              "0                     0.627   50    Diab  \n",
              "2                     0.672   32    Diab  \n",
              "4                     2.288   33    Diab  \n",
              "6                     0.248   26    Diab  \n",
              "8                     0.158   53    Diab  "
            ],
            "text/html": [
              "\n",
              "  <div id=\"df-85dc8e6a-8df6-4c08-82e2-9af1bb121a51\">\n",
              "    <div class=\"colab-df-container\">\n",
              "      <div>\n",
              "<style scoped>\n",
              "    .dataframe tbody tr th:only-of-type {\n",
              "        vertical-align: middle;\n",
              "    }\n",
              "\n",
              "    .dataframe tbody tr th {\n",
              "        vertical-align: top;\n",
              "    }\n",
              "\n",
              "    .dataframe thead th {\n",
              "        text-align: right;\n",
              "    }\n",
              "</style>\n",
              "<table border=\"1\" class=\"dataframe\">\n",
              "  <thead>\n",
              "    <tr style=\"text-align: right;\">\n",
              "      <th></th>\n",
              "      <th>Pregnancies</th>\n",
              "      <th>Glucose</th>\n",
              "      <th>BloodPressure</th>\n",
              "      <th>SkinThickness</th>\n",
              "      <th>Insulin</th>\n",
              "      <th>BMI</th>\n",
              "      <th>DiabetesPedigreeFunction</th>\n",
              "      <th>Age</th>\n",
              "      <th>Outcome</th>\n",
              "    </tr>\n",
              "  </thead>\n",
              "  <tbody>\n",
              "    <tr>\n",
              "      <th>0</th>\n",
              "      <td>6</td>\n",
              "      <td>148</td>\n",
              "      <td>72</td>\n",
              "      <td>35</td>\n",
              "      <td>0</td>\n",
              "      <td>33.6</td>\n",
              "      <td>0.627</td>\n",
              "      <td>50</td>\n",
              "      <td>Diab</td>\n",
              "    </tr>\n",
              "    <tr>\n",
              "      <th>2</th>\n",
              "      <td>8</td>\n",
              "      <td>183</td>\n",
              "      <td>64</td>\n",
              "      <td>0</td>\n",
              "      <td>0</td>\n",
              "      <td>23.3</td>\n",
              "      <td>0.672</td>\n",
              "      <td>32</td>\n",
              "      <td>Diab</td>\n",
              "    </tr>\n",
              "    <tr>\n",
              "      <th>4</th>\n",
              "      <td>0</td>\n",
              "      <td>137</td>\n",
              "      <td>40</td>\n",
              "      <td>35</td>\n",
              "      <td>168</td>\n",
              "      <td>43.1</td>\n",
              "      <td>2.288</td>\n",
              "      <td>33</td>\n",
              "      <td>Diab</td>\n",
              "    </tr>\n",
              "    <tr>\n",
              "      <th>6</th>\n",
              "      <td>3</td>\n",
              "      <td>78</td>\n",
              "      <td>50</td>\n",
              "      <td>32</td>\n",
              "      <td>88</td>\n",
              "      <td>31.0</td>\n",
              "      <td>0.248</td>\n",
              "      <td>26</td>\n",
              "      <td>Diab</td>\n",
              "    </tr>\n",
              "    <tr>\n",
              "      <th>8</th>\n",
              "      <td>2</td>\n",
              "      <td>197</td>\n",
              "      <td>70</td>\n",
              "      <td>45</td>\n",
              "      <td>543</td>\n",
              "      <td>30.5</td>\n",
              "      <td>0.158</td>\n",
              "      <td>53</td>\n",
              "      <td>Diab</td>\n",
              "    </tr>\n",
              "  </tbody>\n",
              "</table>\n",
              "</div>\n",
              "      <button class=\"colab-df-convert\" onclick=\"convertToInteractive('df-85dc8e6a-8df6-4c08-82e2-9af1bb121a51')\"\n",
              "              title=\"Convert this dataframe to an interactive table.\"\n",
              "              style=\"display:none;\">\n",
              "        \n",
              "  <svg xmlns=\"http://www.w3.org/2000/svg\" height=\"24px\"viewBox=\"0 0 24 24\"\n",
              "       width=\"24px\">\n",
              "    <path d=\"M0 0h24v24H0V0z\" fill=\"none\"/>\n",
              "    <path d=\"M18.56 5.44l.94 2.06.94-2.06 2.06-.94-2.06-.94-.94-2.06-.94 2.06-2.06.94zm-11 1L8.5 8.5l.94-2.06 2.06-.94-2.06-.94L8.5 2.5l-.94 2.06-2.06.94zm10 10l.94 2.06.94-2.06 2.06-.94-2.06-.94-.94-2.06-.94 2.06-2.06.94z\"/><path d=\"M17.41 7.96l-1.37-1.37c-.4-.4-.92-.59-1.43-.59-.52 0-1.04.2-1.43.59L10.3 9.45l-7.72 7.72c-.78.78-.78 2.05 0 2.83L4 21.41c.39.39.9.59 1.41.59.51 0 1.02-.2 1.41-.59l7.78-7.78 2.81-2.81c.8-.78.8-2.07 0-2.86zM5.41 20L4 18.59l7.72-7.72 1.47 1.35L5.41 20z\"/>\n",
              "  </svg>\n",
              "      </button>\n",
              "      \n",
              "  <style>\n",
              "    .colab-df-container {\n",
              "      display:flex;\n",
              "      flex-wrap:wrap;\n",
              "      gap: 12px;\n",
              "    }\n",
              "\n",
              "    .colab-df-convert {\n",
              "      background-color: #E8F0FE;\n",
              "      border: none;\n",
              "      border-radius: 50%;\n",
              "      cursor: pointer;\n",
              "      display: none;\n",
              "      fill: #1967D2;\n",
              "      height: 32px;\n",
              "      padding: 0 0 0 0;\n",
              "      width: 32px;\n",
              "    }\n",
              "\n",
              "    .colab-df-convert:hover {\n",
              "      background-color: #E2EBFA;\n",
              "      box-shadow: 0px 1px 2px rgba(60, 64, 67, 0.3), 0px 1px 3px 1px rgba(60, 64, 67, 0.15);\n",
              "      fill: #174EA6;\n",
              "    }\n",
              "\n",
              "    [theme=dark] .colab-df-convert {\n",
              "      background-color: #3B4455;\n",
              "      fill: #D2E3FC;\n",
              "    }\n",
              "\n",
              "    [theme=dark] .colab-df-convert:hover {\n",
              "      background-color: #434B5C;\n",
              "      box-shadow: 0px 1px 3px 1px rgba(0, 0, 0, 0.15);\n",
              "      filter: drop-shadow(0px 1px 2px rgba(0, 0, 0, 0.3));\n",
              "      fill: #FFFFFF;\n",
              "    }\n",
              "  </style>\n",
              "\n",
              "      <script>\n",
              "        const buttonEl =\n",
              "          document.querySelector('#df-85dc8e6a-8df6-4c08-82e2-9af1bb121a51 button.colab-df-convert');\n",
              "        buttonEl.style.display =\n",
              "          google.colab.kernel.accessAllowed ? 'block' : 'none';\n",
              "\n",
              "        async function convertToInteractive(key) {\n",
              "          const element = document.querySelector('#df-85dc8e6a-8df6-4c08-82e2-9af1bb121a51');\n",
              "          const dataTable =\n",
              "            await google.colab.kernel.invokeFunction('convertToInteractive',\n",
              "                                                     [key], {});\n",
              "          if (!dataTable) return;\n",
              "\n",
              "          const docLinkHtml = 'Like what you see? Visit the ' +\n",
              "            '<a target=\"_blank\" href=https://colab.research.google.com/notebooks/data_table.ipynb>data table notebook</a>'\n",
              "            + ' to learn more about interactive tables.';\n",
              "          element.innerHTML = '';\n",
              "          dataTable['output_type'] = 'display_data';\n",
              "          await google.colab.output.renderOutput(dataTable, element);\n",
              "          const docLink = document.createElement('div');\n",
              "          docLink.innerHTML = docLinkHtml;\n",
              "          element.appendChild(docLink);\n",
              "        }\n",
              "      </script>\n",
              "    </div>\n",
              "  </div>\n",
              "  "
            ]
          },
          "metadata": {},
          "execution_count": 38
        }
      ]
    },
    {
      "cell_type": "code",
      "source": [
        "mean_preg_diab = Mean(df_diabetic['Pregnancies'].mean(),df_diabetic['Pregnancies'].std(),df_diabetic.shape[0],1.962)\n",
        "print(\"\\nPrinting Calculations...\")\n",
        "print(\"Best point estimate for Mean Pregnancy Month of Patients with diabetes:\", mean_preg_diab.best_estimate)\n",
        "print(\"Estimated Standard Error for Mean Pregnancy Month of Patients with diabetes:\",mean_preg_diab.estimated_se)\n",
        "print(\"Margin of Error for Mean Pregnancy Month of Patients with diabetes:\",mean_preg_diab.moe())\n",
        "print(\"95% Confidence Interval for Mean Pregnancy Month of Patients with diabetes:\",mean_preg_diab.mean(),\"\\n\")"
      ],
      "metadata": {
        "colab": {
          "base_uri": "https://localhost:8080/"
        },
        "id": "x4qmhwCNw_ko",
        "outputId": "0b1e13a4-e250-4aa7-cdd0-6f1e85d377bd"
      },
      "execution_count": null,
      "outputs": [
        {
          "output_type": "stream",
          "name": "stdout",
          "text": [
            "\n",
            "Printing Calculations...\n",
            "Best point estimate for Mean Pregnancy Month of Patients with diabetes: 4.865671641791045\n",
            "Estimated Standard Error for Mean Pregnancy Month of Patients with diabetes: 0.2285325476073356\n",
            "Margin of Error for Mean Pregnancy Month of Patients with diabetes: 0.44838085840559244\n",
            "95% Confidence Interval for Mean Pregnancy Month of Patients with diabetes: (4.417290783385453, 5.314052500196637) \n",
            "\n"
          ]
        }
      ]
    },
    {
      "cell_type": "code",
      "source": [
        "#Let us now calculate same thing using statsmodel\n",
        "print(\"\\n95% C.I. with statsmodels library:\",sm.stats.DescrStatsW(df_diabetic['Pregnancies']).zconfint_mean())"
      ],
      "metadata": {
        "colab": {
          "base_uri": "https://localhost:8080/"
        },
        "id": "X8vvzJ9mxFcZ",
        "outputId": "a398f1d0-f4c4-41bc-b4f2-c0c5582b5a9b"
      },
      "execution_count": null,
      "outputs": [
        {
          "output_type": "stream",
          "name": "stdout",
          "text": [
            "\n",
            "95% C.I. with statsmodels library: (4.417756079185482, 5.313587204396608)\n"
          ]
        }
      ]
    },
    {
      "cell_type": "code",
      "source": [
        "#let us make some figure to interpret the result\n",
        "plt.figure(dpi=120,figsize=(5,3))\n",
        "sns.distplot(df_diabetic['Pregnancies'],color='green')\n",
        "plt.axvline(x=4.417756079185482,color = 'black',ls=':')\n",
        "plt.axvline(x=5.313587204396608,color = 'black',ls=':')\n",
        "plt.axvline(x=mean_preg_diab.best_estimate,color='red',ls='--')\n",
        "plt.xticks([4.417756079185482,5.313587204396608],['lcb','ucb'],rotation=90)\n",
        "plt.xlabel('Pregnancy Class for Diabetic Patients',fontdict={'fontsize':8})\n",
        "plt.ylabel('Count/Distribution',fontdict={'fontsize':8})\n",
        "plt.title('Pregnancies Distribution for Diabetic Patients',fontdict={'fontsize':8})\n",
        "plt.show()"
      ],
      "metadata": {
        "colab": {
          "base_uri": "https://localhost:8080/",
          "height": 394
        },
        "id": "Ng0ErkevxH0M",
        "outputId": "adee9a10-b65c-42ad-d0a8-6d13722664d8"
      },
      "execution_count": null,
      "outputs": [
        {
          "output_type": "display_data",
          "data": {
            "text/plain": [
              "<Figure size 600x360 with 1 Axes>"
            ],
            "image/png": "[encoded data removed]"
          },
          "metadata": {
            "needs_background": "light"
          }
        }
      ]
    },
    {
      "cell_type": "markdown",
      "source": [
        "**Problem Statement #2**\n",
        "\n",
        "What is the average month of Pregnancy for Non-Diabetic Patients?"
      ],
      "metadata": {
        "id": "-IVpWsdXySUs"
      }
    },
    {
      "cell_type": "code",
      "source": [
        "df_non_diabetic = df[df.Outcome=='Non-Diab']\n",
        "df_non_diabetic.head()"
      ],
      "metadata": {
        "colab": {
          "base_uri": "https://localhost:8080/",
          "height": 206
        },
        "id": "OUz9mOFlzGzv",
        "outputId": "0fa43ed4-ab32-4cad-83d2-001823978e63"
      },
      "execution_count": null,
      "outputs": [
        {
          "output_type": "execute_result",
          "data": {
            "text/plain": [
              "    Pregnancies  Glucose  BloodPressure  SkinThickness  Insulin   BMI  \\\n",
              "1             1       85             66             29        0  26.6   \n",
              "3             1       89             66             23       94  28.1   \n",
              "5             5      116             74              0        0  25.6   \n",
              "7            10      115              0              0        0  35.3   \n",
              "10            4      110             92              0        0  37.6   \n",
              "\n",
              "    DiabetesPedigreeFunction  Age   Outcome  \n",
              "1                      0.351   31  Non-Diab  \n",
              "3                      0.167   21  Non-Diab  \n",
              "5                      0.201   30  Non-Diab  \n",
              "7                      0.134   29  Non-Diab  \n",
              "10                     0.191   30  Non-Diab  "
            ],
            "text/html": [
              "\n",
              "  <div id=\"df-c251e15c-e1a8-4f7e-845b-568c15d10de6\">\n",
              "    <div class=\"colab-df-container\">\n",
              "      <div>\n",
              "<style scoped>\n",
              "    .dataframe tbody tr th:only-of-type {\n",
              "        vertical-align: middle;\n",
              "    }\n",
              "\n",
              "    .dataframe tbody tr th {\n",
              "        vertical-align: top;\n",
              "    }\n",
              "\n",
              "    .dataframe thead th {\n",
              "        text-align: right;\n",
              "    }\n",
              "</style>\n",
              "<table border=\"1\" class=\"dataframe\">\n",
              "  <thead>\n",
              "    <tr style=\"text-align: right;\">\n",
              "      <th></th>\n",
              "      <th>Pregnancies</th>\n",
              "      <th>Glucose</th>\n",
              "      <th>BloodPressure</th>\n",
              "      <th>SkinThickness</th>\n",
              "      <th>Insulin</th>\n",
              "      <th>BMI</th>\n",
              "      <th>DiabetesPedigreeFunction</th>\n",
              "      <th>Age</th>\n",
              "      <th>Outcome</th>\n",
              "    </tr>\n",
              "  </thead>\n",
              "  <tbody>\n",
              "    <tr>\n",
              "      <th>1</th>\n",
              "      <td>1</td>\n",
              "      <td>85</td>\n",
              "      <td>66</td>\n",
              "      <td>29</td>\n",
              "      <td>0</td>\n",
              "      <td>26.6</td>\n",
              "      <td>0.351</td>\n",
              "      <td>31</td>\n",
              "      <td>Non-Diab</td>\n",
              "    </tr>\n",
              "    <tr>\n",
              "      <th>3</th>\n",
              "      <td>1</td>\n",
              "      <td>89</td>\n",
              "      <td>66</td>\n",
              "      <td>23</td>\n",
              "      <td>94</td>\n",
              "      <td>28.1</td>\n",
              "      <td>0.167</td>\n",
              "      <td>21</td>\n",
              "      <td>Non-Diab</td>\n",
              "    </tr>\n",
              "    <tr>\n",
              "      <th>5</th>\n",
              "      <td>5</td>\n",
              "      <td>116</td>\n",
              "      <td>74</td>\n",
              "      <td>0</td>\n",
              "      <td>0</td>\n",
              "      <td>25.6</td>\n",
              "      <td>0.201</td>\n",
              "      <td>30</td>\n",
              "      <td>Non-Diab</td>\n",
              "    </tr>\n",
              "    <tr>\n",
              "      <th>7</th>\n",
              "      <td>10</td>\n",
              "      <td>115</td>\n",
              "      <td>0</td>\n",
              "      <td>0</td>\n",
              "      <td>0</td>\n",
              "      <td>35.3</td>\n",
              "      <td>0.134</td>\n",
              "      <td>29</td>\n",
              "      <td>Non-Diab</td>\n",
              "    </tr>\n",
              "    <tr>\n",
              "      <th>10</th>\n",
              "      <td>4</td>\n",
              "      <td>110</td>\n",
              "      <td>92</td>\n",
              "      <td>0</td>\n",
              "      <td>0</td>\n",
              "      <td>37.6</td>\n",
              "      <td>0.191</td>\n",
              "      <td>30</td>\n",
              "      <td>Non-Diab</td>\n",
              "    </tr>\n",
              "  </tbody>\n",
              "</table>\n",
              "</div>\n",
              "      <button class=\"colab-df-convert\" onclick=\"convertToInteractive('df-c251e15c-e1a8-4f7e-845b-568c15d10de6')\"\n",
              "              title=\"Convert this dataframe to an interactive table.\"\n",
              "              style=\"display:none;\">\n",
              "        \n",
              "  <svg xmlns=\"http://www.w3.org/2000/svg\" height=\"24px\"viewBox=\"0 0 24 24\"\n",
              "       width=\"24px\">\n",
              "    <path d=\"M0 0h24v24H0V0z\" fill=\"none\"/>\n",
              "    <path d=\"M18.56 5.44l.94 2.06.94-2.06 2.06-.94-2.06-.94-.94-2.06-.94 2.06-2.06.94zm-11 1L8.5 8.5l.94-2.06 2.06-.94-2.06-.94L8.5 2.5l-.94 2.06-2.06.94zm10 10l.94 2.06.94-2.06 2.06-.94-2.06-.94-.94-2.06-.94 2.06-2.06.94z\"/><path d=\"M17.41 7.96l-1.37-1.37c-.4-.4-.92-.59-1.43-.59-.52 0-1.04.2-1.43.59L10.3 9.45l-7.72 7.72c-.78.78-.78 2.05 0 2.83L4 21.41c.39.39.9.59 1.41.59.51 0 1.02-.2 1.41-.59l7.78-7.78 2.81-2.81c.8-.78.8-2.07 0-2.86zM5.41 20L4 18.59l7.72-7.72 1.47 1.35L5.41 20z\"/>\n",
              "  </svg>\n",
              "      </button>\n",
              "      \n",
              "  <style>\n",
              "    .colab-df-container {\n",
              "      display:flex;\n",
              "      flex-wrap:wrap;\n",
              "      gap: 12px;\n",
              "    }\n",
              "\n",
              "    .colab-df-convert {\n",
              "      background-color: #E8F0FE;\n",
              "      border: none;\n",
              "      border-radius: 50%;\n",
              "      cursor: pointer;\n",
              "      display: none;\n",
              "      fill: #1967D2;\n",
              "      height: 32px;\n",
              "      padding: 0 0 0 0;\n",
              "      width: 32px;\n",
              "    }\n",
              "\n",
              "    .colab-df-convert:hover {\n",
              "      background-color: #E2EBFA;\n",
              "      box-shadow: 0px 1px 2px rgba(60, 64, 67, 0.3), 0px 1px 3px 1px rgba(60, 64, 67, 0.15);\n",
              "      fill: #174EA6;\n",
              "    }\n",
              "\n",
              "    [theme=dark] .colab-df-convert {\n",
              "      background-color: #3B4455;\n",
              "      fill: #D2E3FC;\n",
              "    }\n",
              "\n",
              "    [theme=dark] .colab-df-convert:hover {\n",
              "      background-color: #434B5C;\n",
              "      box-shadow: 0px 1px 3px 1px rgba(0, 0, 0, 0.15);\n",
              "      filter: drop-shadow(0px 1px 2px rgba(0, 0, 0, 0.3));\n",
              "      fill: #FFFFFF;\n",
              "    }\n",
              "  </style>\n",
              "\n",
              "      <script>\n",
              "        const buttonEl =\n",
              "          document.querySelector('#df-c251e15c-e1a8-4f7e-845b-568c15d10de6 button.colab-df-convert');\n",
              "        buttonEl.style.display =\n",
              "          google.colab.kernel.accessAllowed ? 'block' : 'none';\n",
              "\n",
              "        async function convertToInteractive(key) {\n",
              "          const element = document.querySelector('#df-c251e15c-e1a8-4f7e-845b-568c15d10de6');\n",
              "          const dataTable =\n",
              "            await google.colab.kernel.invokeFunction('convertToInteractive',\n",
              "                                                     [key], {});\n",
              "          if (!dataTable) return;\n",
              "\n",
              "          const docLinkHtml = 'Like what you see? Visit the ' +\n",
              "            '<a target=\"_blank\" href=https://colab.research.google.com/notebooks/data_table.ipynb>data table notebook</a>'\n",
              "            + ' to learn more about interactive tables.';\n",
              "          element.innerHTML = '';\n",
              "          dataTable['output_type'] = 'display_data';\n",
              "          await google.colab.output.renderOutput(dataTable, element);\n",
              "          const docLink = document.createElement('div');\n",
              "          docLink.innerHTML = docLinkHtml;\n",
              "          element.appendChild(docLink);\n",
              "        }\n",
              "      </script>\n",
              "    </div>\n",
              "  </div>\n",
              "  "
            ]
          },
          "metadata": {},
          "execution_count": 42
        }
      ]
    },
    {
      "cell_type": "code",
      "source": [
        "print(\"\\nPrinting Calculations...\")\n",
        "mean_preg_non_diab = Mean(df_non_diabetic['Pregnancies'].mean(),df_non_diabetic['Pregnancies'].std(),df_non_diabetic.shape[0],1.962)\n",
        "print(\"Best point estimate for Mean Pregnancy Month of non diabetic patients:\", mean_preg_non_diab.best_estimate)\n",
        "print(\"Estimated Standard Error for Mean Pregnancy Month of non diabetic patients:\",mean_preg_non_diab.estimated_se)\n",
        "print(\"Margin of Error for Mean Pregnancy Month of non diabetic patients:\",mean_preg_non_diab.moe())\n",
        "print(\"95% Confidence Interval for Mean Pregnancy Month of non diabetic patients:\",mean_preg_non_diab.mean(),\"\\n\")"
      ],
      "metadata": {
        "colab": {
          "base_uri": "https://localhost:8080/"
        },
        "id": "BBGNb-aMzIvH",
        "outputId": "b459d5f1-a739-4d88-ee86-df6630e9dd5e"
      },
      "execution_count": null,
      "outputs": [
        {
          "output_type": "stream",
          "name": "stdout",
          "text": [
            "\n",
            "Printing Calculations...\n",
            "Best point estimate for Mean Pregnancy Month of non diabetic patients: 3.298\n",
            "Estimated Standard Error for Mean Pregnancy Month of non diabetic patients: 0.13493259654813752\n",
            "Margin of Error for Mean Pregnancy Month of non diabetic patients: 0.2647377544274458\n",
            "95% Confidence Interval for Mean Pregnancy Month of non diabetic patients: (3.0332622455725544, 3.5627377544274457) \n",
            "\n"
          ]
        }
      ]
    },
    {
      "cell_type": "code",
      "source": [
        "#Let us now calculate same thing using statsmodel\n",
        "print(\"\\n95% C.I. with statsmodels library:\",sm.stats.DescrStatsW(df_non_diabetic['Pregnancies']).zconfint_mean())"
      ],
      "metadata": {
        "colab": {
          "base_uri": "https://localhost:8080/"
        },
        "id": "C8gLLSbfzLzu",
        "outputId": "c7b473d1-aab2-4c49-d222-776365f8504b"
      },
      "execution_count": null,
      "outputs": [
        {
          "output_type": "stream",
          "name": "stdout",
          "text": [
            "\n",
            "95% C.I. with statsmodels library: (3.033536970425177, 3.562463029574823)\n"
          ]
        }
      ]
    },
    {
      "cell_type": "code",
      "source": [
        "#let us make some figure to interpret the result\n",
        "plt.figure(dpi=120,figsize=(5,3))\n",
        "sns.distplot(df_non_diabetic['Pregnancies'],color='green')\n",
        "plt.axvline(x=3.0332622455725544,color = 'black',ls=':')\n",
        "plt.axvline(x=3.5627377544274457,color = 'black',ls=':')\n",
        "plt.axvline(x=mean_preg_non_diab.best_estimate,color='red',ls='--')\n",
        "plt.xticks([3.0332622455725544, 3.5627377544274457],['lcb','ucb'],rotation=90)\n",
        "plt.xlabel('Pregnancy Class for Non Diabetic Patients',fontdict={'fontsize':8})\n",
        "plt.ylabel('Count/Distribution',fontdict={'fontsize':8})\n",
        "plt.title('Pregnancies Distribution for Non Diabetic Patients',fontdict={'fontsize':8})\n",
        "plt.show()"
      ],
      "metadata": {
        "colab": {
          "base_uri": "https://localhost:8080/",
          "height": 394
        },
        "id": "HglbWHcxzOIb",
        "outputId": "d05d1aed-5014-467d-9f02-b9c9ef141576"
      },
      "execution_count": null,
      "outputs": [
        {
          "output_type": "display_data",
          "data": {
            "text/plain": [
              "<Figure size 600x360 with 1 Axes>"
            ],
            "image/png": "[encoded data removed]"
          },
          "metadata": {
            "needs_background": "light"
          }
        }
      ]
    },
    {
      "cell_type": "markdown",
      "source": [
        "**Problem Statement #3**\n",
        "\n",
        "Considering Diabetic-Non Diabetic patients, do diabetic and non-diabetic patients differ significantly in mean pregnancies month?"
      ],
      "metadata": {
        "id": "urHORdKE0zNg"
      }
    },
    {
      "cell_type": "code",
      "source": [
        "print(\"\\nSample Information:\\n\")\n",
        "df.groupby('Outcome').describe()['Pregnancies'].transpose().loc[['mean','std'],:]"
      ],
      "metadata": {
        "colab": {
          "base_uri": "https://localhost:8080/",
          "height": 167
        },
        "id": "v6BWdwOD03jG",
        "outputId": "099de3ed-b4fb-4faa-dff7-6b1fdeb3a4b8"
      },
      "execution_count": null,
      "outputs": [
        {
          "output_type": "stream",
          "name": "stdout",
          "text": [
            "\n",
            "Sample Information:\n",
            "\n"
          ]
        },
        {
          "output_type": "execute_result",
          "data": {
            "text/plain": [
              "Outcome      Diab  Non-Diab\n",
              "mean     4.865672  3.298000\n",
              "std      3.741239  3.017185"
            ],
            "text/html": [
              "\n",
              "  <div id=\"df-33993b17-3f7f-4aa6-90ea-d2a585599151\">\n",
              "    <div class=\"colab-df-container\">\n",
              "      <div>\n",
              "<style scoped>\n",
              "    .dataframe tbody tr th:only-of-type {\n",
              "        vertical-align: middle;\n",
              "    }\n",
              "\n",
              "    .dataframe tbody tr th {\n",
              "        vertical-align: top;\n",
              "    }\n",
              "\n",
              "    .dataframe thead th {\n",
              "        text-align: right;\n",
              "    }\n",
              "</style>\n",
              "<table border=\"1\" class=\"dataframe\">\n",
              "  <thead>\n",
              "    <tr style=\"text-align: right;\">\n",
              "      <th>Outcome</th>\n",
              "      <th>Diab</th>\n",
              "      <th>Non-Diab</th>\n",
              "    </tr>\n",
              "  </thead>\n",
              "  <tbody>\n",
              "    <tr>\n",
              "      <th>mean</th>\n",
              "      <td>4.865672</td>\n",
              "      <td>3.298000</td>\n",
              "    </tr>\n",
              "    <tr>\n",
              "      <th>std</th>\n",
              "      <td>3.741239</td>\n",
              "      <td>3.017185</td>\n",
              "    </tr>\n",
              "  </tbody>\n",
              "</table>\n",
              "</div>\n",
              "      <button class=\"colab-df-convert\" onclick=\"convertToInteractive('df-33993b17-3f7f-4aa6-90ea-d2a585599151')\"\n",
              "              title=\"Convert this dataframe to an interactive table.\"\n",
              "              style=\"display:none;\">\n",
              "        \n",
              "  <svg xmlns=\"http://www.w3.org/2000/svg\" height=\"24px\"viewBox=\"0 0 24 24\"\n",
              "       width=\"24px\">\n",
              "    <path d=\"M0 0h24v24H0V0z\" fill=\"none\"/>\n",
              "    <path d=\"M18.56 5.44l.94 2.06.94-2.06 2.06-.94-2.06-.94-.94-2.06-.94 2.06-2.06.94zm-11 1L8.5 8.5l.94-2.06 2.06-.94-2.06-.94L8.5 2.5l-.94 2.06-2.06.94zm10 10l.94 2.06.94-2.06 2.06-.94-2.06-.94-.94-2.06-.94 2.06-2.06.94z\"/><path d=\"M17.41 7.96l-1.37-1.37c-.4-.4-.92-.59-1.43-.59-.52 0-1.04.2-1.43.59L10.3 9.45l-7.72 7.72c-.78.78-.78 2.05 0 2.83L4 21.41c.39.39.9.59 1.41.59.51 0 1.02-.2 1.41-.59l7.78-7.78 2.81-2.81c.8-.78.8-2.07 0-2.86zM5.41 20L4 18.59l7.72-7.72 1.47 1.35L5.41 20z\"/>\n",
              "  </svg>\n",
              "      </button>\n",
              "      \n",
              "  <style>\n",
              "    .colab-df-container {\n",
              "      display:flex;\n",
              "      flex-wrap:wrap;\n",
              "      gap: 12px;\n",
              "    }\n",
              "\n",
              "    .colab-df-convert {\n",
              "      background-color: #E8F0FE;\n",
              "      border: none;\n",
              "      border-radius: 50%;\n",
              "      cursor: pointer;\n",
              "      display: none;\n",
              "      fill: #1967D2;\n",
              "      height: 32px;\n",
              "      padding: 0 0 0 0;\n",
              "      width: 32px;\n",
              "    }\n",
              "\n",
              "    .colab-df-convert:hover {\n",
              "      background-color: #E2EBFA;\n",
              "      box-shadow: 0px 1px 2px rgba(60, 64, 67, 0.3), 0px 1px 3px 1px rgba(60, 64, 67, 0.15);\n",
              "      fill: #174EA6;\n",
              "    }\n",
              "\n",
              "    [theme=dark] .colab-df-convert {\n",
              "      background-color: #3B4455;\n",
              "      fill: #D2E3FC;\n",
              "    }\n",
              "\n",
              "    [theme=dark] .colab-df-convert:hover {\n",
              "      background-color: #434B5C;\n",
              "      box-shadow: 0px 1px 3px 1px rgba(0, 0, 0, 0.15);\n",
              "      filter: drop-shadow(0px 1px 2px rgba(0, 0, 0, 0.3));\n",
              "      fill: #FFFFFF;\n",
              "    }\n",
              "  </style>\n",
              "\n",
              "      <script>\n",
              "        const buttonEl =\n",
              "          document.querySelector('#df-33993b17-3f7f-4aa6-90ea-d2a585599151 button.colab-df-convert');\n",
              "        buttonEl.style.display =\n",
              "          google.colab.kernel.accessAllowed ? 'block' : 'none';\n",
              "\n",
              "        async function convertToInteractive(key) {\n",
              "          const element = document.querySelector('#df-33993b17-3f7f-4aa6-90ea-d2a585599151');\n",
              "          const dataTable =\n",
              "            await google.colab.kernel.invokeFunction('convertToInteractive',\n",
              "                                                     [key], {});\n",
              "          if (!dataTable) return;\n",
              "\n",
              "          const docLinkHtml = 'Like what you see? Visit the ' +\n",
              "            '<a target=\"_blank\" href=https://colab.research.google.com/notebooks/data_table.ipynb>data table notebook</a>'\n",
              "            + ' to learn more about interactive tables.';\n",
              "          element.innerHTML = '';\n",
              "          dataTable['output_type'] = 'display_data';\n",
              "          await google.colab.output.renderOutput(dataTable, element);\n",
              "          const docLink = document.createElement('div');\n",
              "          docLink.innerHTML = docLinkHtml;\n",
              "          element.appendChild(docLink);\n",
              "        }\n",
              "      </script>\n",
              "    </div>\n",
              "  </div>\n",
              "  "
            ]
          },
          "metadata": {},
          "execution_count": 46
        }
      ]
    },
    {
      "cell_type": "code",
      "source": [
        "#let us look at variance of both category\n",
        "fig,axes = plt.subplots(nrows=1,ncols=2,dpi=100,figsize = (9,6))\n",
        "\n",
        "plot0 = sns.boxplot(df_diabetic['Pregnancies'],ax=axes[0],orient='v',color = 'red')\n",
        "axes[0].set_title('Pregnancies',fontdict={'fontsize':8})\n",
        "axes[0].set_xlabel('Diabetic',fontdict={'fontsize':7})\n",
        "axes[0].set_ylabel('Five Point Summary',fontdict={'fontsize':7})\n",
        "plt.tight_layout()\n",
        "\n",
        "plot1 = sns.boxplot(df_non_diabetic['Pregnancies'],ax=axes[1],orient='v',color='green')\n",
        "axes[1].set_title('Pregnancies',fontdict={'fontsize':8})\n",
        "axes[1].set_xlabel('Non Diabetic',fontdict={'fontsize':7})\n",
        "axes[1].set_ylabel('Five Point Summary',fontdict={'fontsize':7})\n",
        "plt.tight_layout()"
      ],
      "metadata": {
        "colab": {
          "base_uri": "https://localhost:8080/",
          "height": 607
        },
        "id": "ykmZNB7B1lxv",
        "outputId": "4a4f4b64-6e1a-464a-f80d-4107aafe1b99"
      },
      "execution_count": null,
      "outputs": [
        {
          "output_type": "display_data",
          "data": {
            "text/plain": [
              "<Figure size 900x600 with 2 Axes>"
            ],
            "image/png": "[encoded data removed]"
          },
          "metadata": {
            "needs_background": "light"
          }
        }
      ]
    },
    {
      "cell_type": "code",
      "source": [
        "x1 = df_diabetic.Pregnancies.mean()\n",
        "x2 = df_non_diabetic.Pregnancies.mean()\n",
        "std1 = df_diabetic.Pregnancies.std()\n",
        "std2 = df_non_diabetic.Pregnancies.std()\n",
        "n1 = df_diabetic.shape[0]\n",
        "n2 = df_non_diabetic.shape[0]"
      ],
      "metadata": {
        "id": "y6M8_HPj12na"
      },
      "execution_count": null,
      "outputs": []
    },
    {
      "cell_type": "code",
      "source": [
        "mean_diff_preg = diffMean(x1,x2,std1,std2,n1,n2,1.98)\n",
        "mean_diff_preg.pooledMean()\n",
        "\n",
        "print(\"\\nPrinting Calculations...\")\n",
        "print(\"Best point estimate for (μ1 − μ2 ): Pregnancies Month:\", (mean_diff_preg.best_estimate1-mean_diff_preg.best_estimate2))\n",
        "print(\"Estimated Standard Error for (μ1 − μ2 ): Pregnancies Month:\",mean_diff_preg.pooled_estimated_se)\n",
        "print(\"Margin of Error for (μ1 − μ2 ): Pregnancies Month:\",mean_diff_preg.pooledMoe())\n",
        "print(\"95% Confidence Interval for (μ1 − μ2 ): Pregnancies Month:\",mean_diff_preg.pooledMean(),\"\\n\")"
      ],
      "metadata": {
        "id": "9O25VD7C13k0",
        "outputId": "1266b845-8a39-455e-eeac-9e5e0d0e7e5d",
        "colab": {
          "base_uri": "https://localhost:8080/"
        }
      },
      "execution_count": null,
      "outputs": [
        {
          "output_type": "stream",
          "name": "stdout",
          "text": [
            "\n",
            "Printing Calculations...\n",
            "Best point estimate for (μ1 − μ2 ): Pregnancies Month: 1.567671641791045\n",
            "Estimated Standard Error for (μ1 − μ2 ): Pregnancies Month: 0.4988975585853227\n",
            "Margin of Error for (μ1 − μ2 ): Pregnancies Month: 0.987817165998939\n",
            "95% Confidence Interval for (μ1 − μ2 ): Pregnancies Month: (0.579854475792106, 2.5554888077899838) \n",
            "\n"
          ]
        }
      ]
    }
  ]
}